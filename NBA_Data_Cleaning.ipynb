{
 "cells": [
  {
   "cell_type": "code",
   "execution_count": 1,
   "id": "c8adf638-7761-4603-b97b-9a05b1ad8e7f",
   "metadata": {},
   "outputs": [],
   "source": [
    "import numpy as np\n",
    "import pandas as pd"
   ]
  },
  {
   "cell_type": "code",
   "execution_count": 2,
   "id": "6360f3ed-f731-478c-858f-10db1534d95a",
   "metadata": {},
   "outputs": [],
   "source": [
    "df=pd.read_csv('nba_draft_combine_all_years.csv',encoding='unicode_escape')"
   ]
  },
  {
   "cell_type": "code",
   "execution_count": 3,
   "id": "c62737c9-4939-41a8-a455-9f51127edecb",
   "metadata": {},
   "outputs": [
    {
     "data": {
      "text/html": [
       "<div>\n",
       "<style scoped>\n",
       "    .dataframe tbody tr th:only-of-type {\n",
       "        vertical-align: middle;\n",
       "    }\n",
       "\n",
       "    .dataframe tbody tr th {\n",
       "        vertical-align: top;\n",
       "    }\n",
       "\n",
       "    .dataframe thead th {\n",
       "        text-align: right;\n",
       "    }\n",
       "</style>\n",
       "<table border=\"1\" class=\"dataframe\">\n",
       "  <thead>\n",
       "    <tr style=\"text-align: right;\">\n",
       "      <th></th>\n",
       "      <th>Unnamed: 0</th>\n",
       "      <th>Player</th>\n",
       "      <th>Year</th>\n",
       "      <th>Draft pick</th>\n",
       "      <th>Height (No Shoes)</th>\n",
       "      <th>Height (With Shoes)</th>\n",
       "      <th>Wingspan</th>\n",
       "      <th>Standing reach</th>\n",
       "      <th>Vertical (Max)</th>\n",
       "      <th>Vertical (Max Reach)</th>\n",
       "      <th>Vertical (No Step)</th>\n",
       "      <th>Vertical (No Step Reach)</th>\n",
       "      <th>Weight</th>\n",
       "      <th>Body Fat</th>\n",
       "      <th>Hand (Length)</th>\n",
       "      <th>Hand (Width)</th>\n",
       "      <th>Bench</th>\n",
       "      <th>Agility</th>\n",
       "      <th>Sprint</th>\n",
       "    </tr>\n",
       "  </thead>\n",
       "  <tbody>\n",
       "    <tr>\n",
       "      <th>0</th>\n",
       "      <td>0</td>\n",
       "      <td>Blake Griffin</td>\n",
       "      <td>2009</td>\n",
       "      <td>1.0</td>\n",
       "      <td>80.50</td>\n",
       "      <td>82.00</td>\n",
       "      <td>83.25</td>\n",
       "      <td>105.0</td>\n",
       "      <td>35.5</td>\n",
       "      <td>140.5</td>\n",
       "      <td>32.0</td>\n",
       "      <td>137.0</td>\n",
       "      <td>248.0</td>\n",
       "      <td>8.2</td>\n",
       "      <td>NaN</td>\n",
       "      <td>NaN</td>\n",
       "      <td>22.0</td>\n",
       "      <td>10.95</td>\n",
       "      <td>3.28</td>\n",
       "    </tr>\n",
       "    <tr>\n",
       "      <th>1</th>\n",
       "      <td>1</td>\n",
       "      <td>Terrence Williams</td>\n",
       "      <td>2009</td>\n",
       "      <td>11.0</td>\n",
       "      <td>77.00</td>\n",
       "      <td>78.25</td>\n",
       "      <td>81.00</td>\n",
       "      <td>103.5</td>\n",
       "      <td>37.0</td>\n",
       "      <td>140.5</td>\n",
       "      <td>30.5</td>\n",
       "      <td>134.0</td>\n",
       "      <td>213.0</td>\n",
       "      <td>5.1</td>\n",
       "      <td>NaN</td>\n",
       "      <td>NaN</td>\n",
       "      <td>9.0</td>\n",
       "      <td>11.15</td>\n",
       "      <td>3.18</td>\n",
       "    </tr>\n",
       "    <tr>\n",
       "      <th>2</th>\n",
       "      <td>2</td>\n",
       "      <td>Gerald Henderson</td>\n",
       "      <td>2009</td>\n",
       "      <td>12.0</td>\n",
       "      <td>76.00</td>\n",
       "      <td>77.00</td>\n",
       "      <td>82.25</td>\n",
       "      <td>102.5</td>\n",
       "      <td>35.0</td>\n",
       "      <td>137.5</td>\n",
       "      <td>31.5</td>\n",
       "      <td>134.0</td>\n",
       "      <td>215.0</td>\n",
       "      <td>4.4</td>\n",
       "      <td>NaN</td>\n",
       "      <td>NaN</td>\n",
       "      <td>8.0</td>\n",
       "      <td>11.17</td>\n",
       "      <td>3.14</td>\n",
       "    </tr>\n",
       "    <tr>\n",
       "      <th>3</th>\n",
       "      <td>3</td>\n",
       "      <td>Tyler Hansbrough</td>\n",
       "      <td>2009</td>\n",
       "      <td>13.0</td>\n",
       "      <td>80.25</td>\n",
       "      <td>81.50</td>\n",
       "      <td>83.50</td>\n",
       "      <td>106.0</td>\n",
       "      <td>34.0</td>\n",
       "      <td>140.0</td>\n",
       "      <td>27.5</td>\n",
       "      <td>133.5</td>\n",
       "      <td>234.0</td>\n",
       "      <td>8.5</td>\n",
       "      <td>NaN</td>\n",
       "      <td>NaN</td>\n",
       "      <td>18.0</td>\n",
       "      <td>11.12</td>\n",
       "      <td>3.27</td>\n",
       "    </tr>\n",
       "    <tr>\n",
       "      <th>4</th>\n",
       "      <td>4</td>\n",
       "      <td>Earl Clark</td>\n",
       "      <td>2009</td>\n",
       "      <td>14.0</td>\n",
       "      <td>80.50</td>\n",
       "      <td>82.25</td>\n",
       "      <td>86.50</td>\n",
       "      <td>109.5</td>\n",
       "      <td>33.0</td>\n",
       "      <td>142.5</td>\n",
       "      <td>28.5</td>\n",
       "      <td>138.0</td>\n",
       "      <td>228.0</td>\n",
       "      <td>5.2</td>\n",
       "      <td>NaN</td>\n",
       "      <td>NaN</td>\n",
       "      <td>5.0</td>\n",
       "      <td>11.17</td>\n",
       "      <td>3.35</td>\n",
       "    </tr>\n",
       "  </tbody>\n",
       "</table>\n",
       "</div>"
      ],
      "text/plain": [
       "   Unnamed: 0             Player  Year  Draft pick  Height (No Shoes)  \\\n",
       "0           0      Blake Griffin  2009         1.0              80.50   \n",
       "1           1  Terrence Williams  2009        11.0              77.00   \n",
       "2           2   Gerald Henderson  2009        12.0              76.00   \n",
       "3           3   Tyler Hansbrough  2009        13.0              80.25   \n",
       "4           4         Earl Clark  2009        14.0              80.50   \n",
       "\n",
       "   Height (With Shoes)  Wingspan  Standing reach  Vertical (Max)  \\\n",
       "0                82.00     83.25           105.0            35.5   \n",
       "1                78.25     81.00           103.5            37.0   \n",
       "2                77.00     82.25           102.5            35.0   \n",
       "3                81.50     83.50           106.0            34.0   \n",
       "4                82.25     86.50           109.5            33.0   \n",
       "\n",
       "   Vertical (Max Reach)  Vertical (No Step)  Vertical (No Step Reach)  Weight  \\\n",
       "0                 140.5                32.0                     137.0   248.0   \n",
       "1                 140.5                30.5                     134.0   213.0   \n",
       "2                 137.5                31.5                     134.0   215.0   \n",
       "3                 140.0                27.5                     133.5   234.0   \n",
       "4                 142.5                28.5                     138.0   228.0   \n",
       "\n",
       "   Body Fat  Hand (Length)  Hand (Width)  Bench  Agility  Sprint  \n",
       "0       8.2            NaN           NaN   22.0    10.95    3.28  \n",
       "1       5.1            NaN           NaN    9.0    11.15    3.18  \n",
       "2       4.4            NaN           NaN    8.0    11.17    3.14  \n",
       "3       8.5            NaN           NaN   18.0    11.12    3.27  \n",
       "4       5.2            NaN           NaN    5.0    11.17    3.35  "
      ]
     },
     "execution_count": 3,
     "metadata": {},
     "output_type": "execute_result"
    }
   ],
   "source": [
    "df.head()"
   ]
  },
  {
   "cell_type": "code",
   "execution_count": 4,
   "id": "465096c0-1ae1-445e-a8fe-005692a48d37",
   "metadata": {},
   "outputs": [
    {
     "name": "stdout",
     "output_type": "stream",
     "text": [
      "<class 'pandas.core.frame.DataFrame'>\n",
      "RangeIndex: 517 entries, 0 to 516\n",
      "Data columns (total 19 columns):\n",
      " #   Column                    Non-Null Count  Dtype  \n",
      "---  ------                    --------------  -----  \n",
      " 0   Unnamed: 0                517 non-null    int64  \n",
      " 1   Player                    517 non-null    object \n",
      " 2   Year                      517 non-null    int64  \n",
      " 3   Draft pick                384 non-null    float64\n",
      " 4   Height (No Shoes)         517 non-null    float64\n",
      " 5   Height (With Shoes)       516 non-null    float64\n",
      " 6   Wingspan                  517 non-null    float64\n",
      " 7   Standing reach            517 non-null    float64\n",
      " 8   Vertical (Max)            450 non-null    float64\n",
      " 9   Vertical (Max Reach)      450 non-null    float64\n",
      " 10  Vertical (No Step)        450 non-null    float64\n",
      " 11  Vertical (No Step Reach)  450 non-null    float64\n",
      " 12  Weight                    516 non-null    float64\n",
      " 13  Body Fat                  514 non-null    float64\n",
      " 14  Hand (Length)             470 non-null    float64\n",
      " 15  Hand (Width)              468 non-null    float64\n",
      " 16  Bench                     284 non-null    float64\n",
      " 17  Agility                   444 non-null    float64\n",
      " 18  Sprint                    446 non-null    float64\n",
      "dtypes: float64(16), int64(2), object(1)\n",
      "memory usage: 76.9+ KB\n"
     ]
    }
   ],
   "source": [
    "df.info()"
   ]
  },
  {
   "cell_type": "code",
   "execution_count": 5,
   "id": "9d7c25b2-a43d-4481-b497-7c65fb311a3d",
   "metadata": {},
   "outputs": [
    {
     "data": {
      "text/plain": [
       "Unnamed: 0                    0\n",
       "Player                        0\n",
       "Year                          0\n",
       "Draft pick                  133\n",
       "Height (No Shoes)             0\n",
       "Height (With Shoes)           1\n",
       "Wingspan                      0\n",
       "Standing reach                0\n",
       "Vertical (Max)               67\n",
       "Vertical (Max Reach)         67\n",
       "Vertical (No Step)           67\n",
       "Vertical (No Step Reach)     67\n",
       "Weight                        1\n",
       "Body Fat                      3\n",
       "Hand (Length)                47\n",
       "Hand (Width)                 49\n",
       "Bench                       233\n",
       "Agility                      73\n",
       "Sprint                       71\n",
       "dtype: int64"
      ]
     },
     "execution_count": 5,
     "metadata": {},
     "output_type": "execute_result"
    }
   ],
   "source": [
    "df.isna().sum()"
   ]
  },
  {
   "cell_type": "raw",
   "id": "978b8bee-a09a-4a1a-a702-08e98a45d5a2",
   "metadata": {},
   "source": [
    "Columns with Null Values:\n",
    "Draft pick\n",
    "Vertical (Max)\n",
    "Vertical (Max Reach)\n",
    "Vertical (No Step)\n",
    "Vertical (No Step Reach)\n",
    "Hand (Length)  \n",
    "Hand (Width)\n",
    "Bench \n",
    "Agility\n",
    "Sprint"
   ]
  },
  {
   "cell_type": "code",
   "execution_count": 6,
   "id": "522c7077-09d0-47bd-9426-88dddb2ece42",
   "metadata": {},
   "outputs": [
    {
     "data": {
      "text/plain": [
       "Draft pick\n",
       "37.0    9\n",
       "14.0    9\n",
       "18.0    9\n",
       "33.0    9\n",
       "27.0    8\n",
       "34.0    8\n",
       "10.0    8\n",
       "9.0     8\n",
       "8.0     8\n",
       "44.0    8\n",
       "40.0    8\n",
       "36.0    8\n",
       "28.0    8\n",
       "41.0    8\n",
       "21.0    8\n",
       "12.0    8\n",
       "13.0    8\n",
       "17.0    8\n",
       "19.0    8\n",
       "24.0    7\n",
       "43.0    7\n",
       "22.0    7\n",
       "49.0    7\n",
       "38.0    7\n",
       "30.0    7\n",
       "15.0    7\n",
       "6.0     7\n",
       "25.0    7\n",
       "46.0    7\n",
       "51.0    7\n",
       "11.0    7\n",
       "32.0    7\n",
       "29.0    7\n",
       "23.0    7\n",
       "42.0    6\n",
       "26.0    6\n",
       "2.0     6\n",
       "55.0    6\n",
       "35.0    6\n",
       "16.0    6\n",
       "20.0    6\n",
       "4.0     6\n",
       "3.0     6\n",
       "47.0    6\n",
       "59.0    5\n",
       "58.0    5\n",
       "31.0    5\n",
       "5.0     5\n",
       "7.0     5\n",
       "52.0    5\n",
       "48.0    5\n",
       "39.0    5\n",
       "56.0    4\n",
       "45.0    4\n",
       "50.0    4\n",
       "53.0    3\n",
       "54.0    3\n",
       "1.0     3\n",
       "60.0    2\n",
       "Name: count, dtype: int64"
      ]
     },
     "execution_count": 6,
     "metadata": {},
     "output_type": "execute_result"
    }
   ],
   "source": [
    "df['Draft pick'].value_counts()"
   ]
  },
  {
   "cell_type": "code",
   "execution_count": 7,
   "id": "0daa7cd6-5d28-4318-aded-f204f4af1c0e",
   "metadata": {},
   "outputs": [],
   "source": [
    "df['Draft pick']=df['Draft pick'].fillna(value=df['Draft pick'].mean())"
   ]
  },
  {
   "cell_type": "code",
   "execution_count": 8,
   "id": "c1afb304-3d4e-4a41-8549-6f7561983fe6",
   "metadata": {},
   "outputs": [
    {
     "data": {
      "text/plain": [
       "0"
      ]
     },
     "execution_count": 8,
     "metadata": {},
     "output_type": "execute_result"
    }
   ],
   "source": [
    "df['Draft pick'].isna().sum()"
   ]
  },
  {
   "cell_type": "code",
   "execution_count": 9,
   "id": "61985a7d-f536-406a-bffe-43fe7509124f",
   "metadata": {},
   "outputs": [
    {
     "data": {
      "text/plain": [
       "Vertical (Max)\n",
       "35.5    30\n",
       "36.5    25\n",
       "34.5    25\n",
       "37.5    24\n",
       "36.0    23\n",
       "33.5    22\n",
       "32.5    22\n",
       "33.0    22\n",
       "37.0    21\n",
       "34.0    20\n",
       "35.0    20\n",
       "31.5    18\n",
       "38.0    17\n",
       "31.0    17\n",
       "38.5    15\n",
       "32.0    15\n",
       "30.5    13\n",
       "40.5    13\n",
       "39.5    12\n",
       "40.0     9\n",
       "39.0     8\n",
       "29.5     7\n",
       "41.5     7\n",
       "42.0     5\n",
       "28.0     5\n",
       "28.5     5\n",
       "29.0     5\n",
       "30.0     5\n",
       "41.0     4\n",
       "44.0     3\n",
       "43.5     3\n",
       "43.0     3\n",
       "25.0     2\n",
       "27.5     2\n",
       "26.5     1\n",
       "26.0     1\n",
       "44.5     1\n",
       "Name: count, dtype: int64"
      ]
     },
     "execution_count": 9,
     "metadata": {},
     "output_type": "execute_result"
    }
   ],
   "source": [
    "df['Vertical (Max)'].value_counts()"
   ]
  },
  {
   "cell_type": "code",
   "execution_count": 14,
   "id": "9e4270b4-5dc5-4535-97e6-9137bd22893e",
   "metadata": {},
   "outputs": [],
   "source": [
    "for column in df.columns:\n",
    "    df['Vertical (Max)']=df['Vertical (Max)'].fillna(value=df['Vertical (Max)'].mode()[0])"
   ]
  },
  {
   "cell_type": "code",
   "execution_count": 15,
   "id": "aa63a66f-4d61-42c3-8363-1be456135a0e",
   "metadata": {},
   "outputs": [
    {
     "data": {
      "text/plain": [
       "0"
      ]
     },
     "execution_count": 15,
     "metadata": {},
     "output_type": "execute_result"
    }
   ],
   "source": [
    "df['Vertical (Max)'].isna().sum()"
   ]
  },
  {
   "cell_type": "code",
   "execution_count": 16,
   "id": "e8aa1f2a-f426-4bac-9d52-99b26354c72c",
   "metadata": {},
   "outputs": [
    {
     "data": {
      "text/plain": [
       "Vertical (Max Reach)\n",
       "138.00    36\n",
       "142.00    25\n",
       "139.50    24\n",
       "141.50    21\n",
       "141.00    20\n",
       "140.50    19\n",
       "138.50    19\n",
       "140.00    18\n",
       "134.00    18\n",
       "136.00    18\n",
       "137.50    17\n",
       "139.00    17\n",
       "144.00    16\n",
       "135.00    14\n",
       "136.50    13\n",
       "143.00    12\n",
       "137.00    11\n",
       "142.50    11\n",
       "134.50    11\n",
       "133.50    10\n",
       "135.50     9\n",
       "143.50     9\n",
       "133.00     9\n",
       "132.00     7\n",
       "132.50     7\n",
       "145.00     6\n",
       "145.50     6\n",
       "144.50     5\n",
       "128.00     4\n",
       "130.50     4\n",
       "129.50     3\n",
       "146.00     3\n",
       "131.50     3\n",
       "129.00     3\n",
       "127.00     3\n",
       "131.00     3\n",
       "128.50     3\n",
       "130.00     3\n",
       "126.50     2\n",
       "127.50     2\n",
       "133.75     1\n",
       "137.75     1\n",
       "125.50     1\n",
       "147.00     1\n",
       "146.50     1\n",
       "147.50     1\n",
       "Name: count, dtype: int64"
      ]
     },
     "execution_count": 16,
     "metadata": {},
     "output_type": "execute_result"
    }
   ],
   "source": [
    "df['Vertical (Max Reach)'].value_counts()"
   ]
  },
  {
   "cell_type": "code",
   "execution_count": 17,
   "id": "b95b7e3c-6226-49df-b809-92fa0cb7e2fb",
   "metadata": {},
   "outputs": [],
   "source": [
    "df['Vertical (Max Reach)']=df['Vertical (Max Reach)'].fillna(value=df['Vertical (Max Reach)'].mean())"
   ]
  },
  {
   "cell_type": "code",
   "execution_count": 18,
   "id": "a0134ee5-239b-41e5-88c3-71b48864248e",
   "metadata": {},
   "outputs": [
    {
     "data": {
      "text/plain": [
       "0"
      ]
     },
     "execution_count": 18,
     "metadata": {},
     "output_type": "execute_result"
    }
   ],
   "source": [
    "df['Vertical (Max Reach)'].isna().sum()"
   ]
  },
  {
   "cell_type": "code",
   "execution_count": 19,
   "id": "5e88cf8a-73e7-426f-af12-aabb9356e013",
   "metadata": {},
   "outputs": [
    {
     "data": {
      "text/plain": [
       "Vertical (No Step)\n",
       "28.5    34\n",
       "31.5    31\n",
       "29.0    30\n",
       "29.5    30\n",
       "30.0    27\n",
       "27.0    24\n",
       "28.0    23\n",
       "30.5    22\n",
       "27.5    21\n",
       "31.0    21\n",
       "33.0    20\n",
       "32.0    20\n",
       "26.0    18\n",
       "33.5    17\n",
       "32.5    14\n",
       "25.5    13\n",
       "26.5    11\n",
       "34.0    11\n",
       "25.0    11\n",
       "24.5    10\n",
       "34.5     8\n",
       "23.5     6\n",
       "35.5     5\n",
       "36.5     4\n",
       "23.0     4\n",
       "22.5     3\n",
       "24.0     3\n",
       "37.5     3\n",
       "35.0     3\n",
       "38.0     2\n",
       "36.0     1\n",
       "Name: count, dtype: int64"
      ]
     },
     "execution_count": 19,
     "metadata": {},
     "output_type": "execute_result"
    }
   ],
   "source": [
    "df['Vertical (No Step)'].value_counts()"
   ]
  },
  {
   "cell_type": "code",
   "execution_count": 20,
   "id": "a6b9110e-e5d2-4e7b-bafd-5660d99ccb20",
   "metadata": {},
   "outputs": [],
   "source": [
    "df['Vertical (No Step)']=df['Vertical (No Step)'].fillna(value=df['Vertical (No Step)'].mean())"
   ]
  },
  {
   "cell_type": "code",
   "execution_count": 21,
   "id": "f6ea16b0-859c-41a5-a443-6affcc4d7e13",
   "metadata": {},
   "outputs": [
    {
     "data": {
      "text/plain": [
       "0"
      ]
     },
     "execution_count": 21,
     "metadata": {},
     "output_type": "execute_result"
    }
   ],
   "source": [
    "df['Vertical (No Step)'].isna().sum()"
   ]
  },
  {
   "cell_type": "code",
   "execution_count": 22,
   "id": "9e802b23-0cfa-49a1-9c7c-3fdd09b0f362",
   "metadata": {},
   "outputs": [
    {
     "data": {
      "text/plain": [
       "Vertical (No Step Reach)\n",
       "134.50    24\n",
       "135.00    24\n",
       "136.00    22\n",
       "133.50    22\n",
       "131.50    20\n",
       "131.00    20\n",
       "132.50    18\n",
       "133.00    18\n",
       "137.00    17\n",
       "129.00    15\n",
       "132.00    14\n",
       "138.00    14\n",
       "134.00    13\n",
       "129.50    13\n",
       "135.50    13\n",
       "130.00    13\n",
       "126.50    12\n",
       "128.50    11\n",
       "127.50    11\n",
       "137.50    10\n",
       "136.50    10\n",
       "127.00    10\n",
       "128.00     9\n",
       "138.50     9\n",
       "130.50     9\n",
       "140.00     8\n",
       "139.00     7\n",
       "139.50     7\n",
       "123.50     6\n",
       "125.50     6\n",
       "122.50     5\n",
       "141.00     5\n",
       "124.50     5\n",
       "141.50     4\n",
       "121.00     3\n",
       "125.00     3\n",
       "126.00     3\n",
       "121.50     2\n",
       "123.00     2\n",
       "124.00     2\n",
       "140.50     2\n",
       "142.50     2\n",
       "124.75     1\n",
       "142.00     1\n",
       "132.25     1\n",
       "122.00     1\n",
       "143.00     1\n",
       "144.00     1\n",
       "119.00     1\n",
       "Name: count, dtype: int64"
      ]
     },
     "execution_count": 22,
     "metadata": {},
     "output_type": "execute_result"
    }
   ],
   "source": [
    "df['Vertical (No Step Reach)'].value_counts()"
   ]
  },
  {
   "cell_type": "code",
   "execution_count": 23,
   "id": "c4dd81f3-9a85-4d85-bc3a-125aa92b9ad1",
   "metadata": {},
   "outputs": [],
   "source": [
    "df['Vertical (No Step Reach)']=df['Vertical (No Step Reach)'].fillna(value=df['Vertical (No Step Reach)'].mean())"
   ]
  },
  {
   "cell_type": "code",
   "execution_count": 24,
   "id": "84b735c5-f766-49cd-8523-ebd8e1e3369b",
   "metadata": {},
   "outputs": [
    {
     "data": {
      "text/plain": [
       "0"
      ]
     },
     "execution_count": 24,
     "metadata": {},
     "output_type": "execute_result"
    }
   ],
   "source": [
    "df['Vertical (No Step Reach)'].isna().sum()"
   ]
  },
  {
   "cell_type": "code",
   "execution_count": 25,
   "id": "025bde51-886e-414e-a084-4d867c30950c",
   "metadata": {},
   "outputs": [],
   "source": [
    "df=df.drop(columns=['Bench'])\n",
    "#since bench column has 50% nulls"
   ]
  },
  {
   "cell_type": "code",
   "execution_count": 26,
   "id": "ac63cfcb-9df3-406a-b3e0-e9bbbe45a317",
   "metadata": {},
   "outputs": [
    {
     "data": {
      "text/plain": [
       "Index(['Unnamed: 0', 'Player', 'Year', 'Draft pick', 'Height (No Shoes)',\n",
       "       'Height (With Shoes)', 'Wingspan', 'Standing reach', 'Vertical (Max)',\n",
       "       'Vertical (Max Reach)', 'Vertical (No Step)',\n",
       "       'Vertical (No Step Reach)', 'Weight', 'Body Fat', 'Hand (Length)',\n",
       "       'Hand (Width)', 'Agility', 'Sprint'],\n",
       "      dtype='object')"
      ]
     },
     "execution_count": 26,
     "metadata": {},
     "output_type": "execute_result"
    }
   ],
   "source": [
    "df.columns"
   ]
  },
  {
   "cell_type": "code",
   "execution_count": 27,
   "id": "72136e15-3fd2-4099-8777-55a37acebf41",
   "metadata": {},
   "outputs": [
    {
     "data": {
      "text/plain": [
       "Agility\n",
       "11.15    10\n",
       "11.10     8\n",
       "11.68     7\n",
       "11.00     7\n",
       "11.45     6\n",
       "         ..\n",
       "10.48     1\n",
       "11.84     1\n",
       "12.35     1\n",
       "10.65     1\n",
       "12.40     1\n",
       "Name: count, Length: 191, dtype: int64"
      ]
     },
     "execution_count": 27,
     "metadata": {},
     "output_type": "execute_result"
    }
   ],
   "source": [
    "df['Agility'].value_counts()"
   ]
  },
  {
   "cell_type": "code",
   "execution_count": 28,
   "id": "df98553d-69b1-4284-97f9-4439fea2cab1",
   "metadata": {},
   "outputs": [],
   "source": [
    "df['Agility']=df['Agility'].fillna(value=df['Agility'].mean())"
   ]
  },
  {
   "cell_type": "code",
   "execution_count": 30,
   "id": "14032093-8f0b-4a3d-940d-db84bf50d293",
   "metadata": {},
   "outputs": [
    {
     "data": {
      "text/plain": [
       "0"
      ]
     },
     "execution_count": 30,
     "metadata": {},
     "output_type": "execute_result"
    }
   ],
   "source": [
    "df['Agility'].isna().sum()"
   ]
  },
  {
   "cell_type": "code",
   "execution_count": 31,
   "id": "7406df37-3564-4c30-b844-d37c82be278c",
   "metadata": {},
   "outputs": [
    {
     "data": {
      "text/plain": [
       "<bound method IndexOpsMixin.value_counts of 0      3.28\n",
       "1      3.18\n",
       "2      3.14\n",
       "3      3.27\n",
       "4      3.35\n",
       "       ... \n",
       "512    3.41\n",
       "513    3.30\n",
       "514    3.53\n",
       "515     NaN\n",
       "516    3.26\n",
       "Name: Sprint, Length: 517, dtype: float64>"
      ]
     },
     "execution_count": 31,
     "metadata": {},
     "output_type": "execute_result"
    }
   ],
   "source": [
    "df['Sprint'].value_counts"
   ]
  },
  {
   "cell_type": "code",
   "execution_count": 32,
   "id": "8d10265f-406a-43f8-a45e-a5a3d29b1440",
   "metadata": {},
   "outputs": [],
   "source": [
    "df['Sprint']=df['Sprint'].fillna(value=df['Sprint'].mean())"
   ]
  },
  {
   "cell_type": "code",
   "execution_count": 33,
   "id": "4da0e925-0fd2-4ce3-b86e-eab31a3860ed",
   "metadata": {},
   "outputs": [
    {
     "data": {
      "text/plain": [
       "0"
      ]
     },
     "execution_count": 33,
     "metadata": {},
     "output_type": "execute_result"
    }
   ],
   "source": [
    "df['Sprint'].isna().sum()"
   ]
  },
  {
   "cell_type": "code",
   "execution_count": 34,
   "id": "3fb3e8d2-ca55-468d-8b35-0f53e26e0a73",
   "metadata": {},
   "outputs": [
    {
     "data": {
      "text/plain": [
       "Hand (Length)\n",
       "8.50     97\n",
       "9.00     93\n",
       "8.75     80\n",
       "8.25     63\n",
       "9.25     52\n",
       "9.50     29\n",
       "8.00     28\n",
       "9.75      8\n",
       "7.50      8\n",
       "7.75      7\n",
       "10.00     2\n",
       "8.30      2\n",
       "10.25     1\n",
       "Name: count, dtype: int64"
      ]
     },
     "execution_count": 34,
     "metadata": {},
     "output_type": "execute_result"
    }
   ],
   "source": [
    "df['Hand (Length)'].value_counts()"
   ]
  },
  {
   "cell_type": "code",
   "execution_count": 37,
   "id": "a50fde81-0da9-401f-8066-44ac897300ac",
   "metadata": {},
   "outputs": [],
   "source": [
    "for column in df.columns:\n",
    "    df['Hand (Length)']=df['Hand (Length)'].fillna(value=df['Hand (Length)'].mode()[0])"
   ]
  },
  {
   "cell_type": "code",
   "execution_count": 38,
   "id": "c51bfaff-5194-49a3-9a4b-4287ac51dfb1",
   "metadata": {},
   "outputs": [
    {
     "data": {
      "text/plain": [
       "0"
      ]
     },
     "execution_count": 38,
     "metadata": {},
     "output_type": "execute_result"
    }
   ],
   "source": [
    "df['Hand (Length)'].isna().sum()"
   ]
  },
  {
   "cell_type": "code",
   "execution_count": 39,
   "id": "fdfe5eaf-1fa6-4abd-a131-39ce24a9a324",
   "metadata": {},
   "outputs": [
    {
     "data": {
      "text/plain": [
       "Hand (Width)\n",
       "9.50     83\n",
       "9.00     67\n",
       "9.25     56\n",
       "10.00    44\n",
       "8.75     44\n",
       "9.75     41\n",
       "8.50     33\n",
       "10.25    28\n",
       "10.50    22\n",
       "8.25     15\n",
       "11.00     8\n",
       "10.75     8\n",
       "7.75      5\n",
       "7.50      3\n",
       "8.00      3\n",
       "11.25     2\n",
       "7.00      2\n",
       "11.50     2\n",
       "12.00     1\n",
       "11.75     1\n",
       "Name: count, dtype: int64"
      ]
     },
     "execution_count": 39,
     "metadata": {},
     "output_type": "execute_result"
    }
   ],
   "source": [
    "df['Hand (Width)'].value_counts()"
   ]
  },
  {
   "cell_type": "code",
   "execution_count": 40,
   "id": "a9493932-e40d-4013-9515-70c49010f8fc",
   "metadata": {},
   "outputs": [],
   "source": [
    "for column in df.columns:\n",
    "    df['Hand (Width)']=df['Hand (Width)'].fillna(value=df['Hand (Width)'].mode()[0])"
   ]
  },
  {
   "cell_type": "code",
   "execution_count": 41,
   "id": "d4a4d7eb-af3e-446f-9289-95dbd7a1ad15",
   "metadata": {},
   "outputs": [
    {
     "data": {
      "text/plain": [
       "0"
      ]
     },
     "execution_count": 41,
     "metadata": {},
     "output_type": "execute_result"
    }
   ],
   "source": [
    "df['Hand (Width)'].isna().sum()"
   ]
  },
  {
   "cell_type": "code",
   "execution_count": 42,
   "id": "3518389f-ac49-400f-86ac-d7bff1013b84",
   "metadata": {},
   "outputs": [],
   "source": [
    "df=df.dropna()"
   ]
  },
  {
   "cell_type": "code",
   "execution_count": 43,
   "id": "60daf61c-904e-4145-a8a3-bf173ab0618e",
   "metadata": {},
   "outputs": [
    {
     "data": {
      "text/plain": [
       "Unnamed: 0                  0\n",
       "Player                      0\n",
       "Year                        0\n",
       "Draft pick                  0\n",
       "Height (No Shoes)           0\n",
       "Height (With Shoes)         0\n",
       "Wingspan                    0\n",
       "Standing reach              0\n",
       "Vertical (Max)              0\n",
       "Vertical (Max Reach)        0\n",
       "Vertical (No Step)          0\n",
       "Vertical (No Step Reach)    0\n",
       "Weight                      0\n",
       "Body Fat                    0\n",
       "Hand (Length)               0\n",
       "Hand (Width)                0\n",
       "Agility                     0\n",
       "Sprint                      0\n",
       "dtype: int64"
      ]
     },
     "execution_count": 43,
     "metadata": {},
     "output_type": "execute_result"
    }
   ],
   "source": [
    "df.isna().sum()"
   ]
  },
  {
   "cell_type": "raw",
   "id": "6182b7c8-cbdf-4ca4-ad0c-3d33fa73aa0a",
   "metadata": {},
   "source": [
    "The data is cleaned."
   ]
  },
  {
   "cell_type": "code",
   "execution_count": 44,
   "id": "3bc4159a-9c5c-4d26-921c-cf8d7275d0aa",
   "metadata": {},
   "outputs": [],
   "source": [
    "df.to_csv(\"Cleaned data.csv\")"
   ]
  }
 ],
 "metadata": {
  "kernelspec": {
   "display_name": "Python 3 (ipykernel)",
   "language": "python",
   "name": "python3"
  },
  "language_info": {
   "codemirror_mode": {
    "name": "ipython",
    "version": 3
   },
   "file_extension": ".py",
   "mimetype": "text/x-python",
   "name": "python",
   "nbconvert_exporter": "python",
   "pygments_lexer": "ipython3",
   "version": "3.11.4"
  }
 },
 "nbformat": 4,
 "nbformat_minor": 5
}
